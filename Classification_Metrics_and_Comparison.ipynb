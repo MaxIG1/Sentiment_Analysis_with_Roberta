{
 "cells": [
  {
   "cell_type": "markdown",
   "metadata": {},
   "source": [
    "# Dependency Loading"
   ]
  },
  {
   "cell_type": "code",
   "execution_count": 5,
   "metadata": {},
   "outputs": [],
   "source": [
    "from transformers import pipeline\n",
    "import pandas as pd\n",
    "import seaborn as sns\n",
    "from datasets import load_dataset\n",
    "from datasets import load_dataset\n",
    "from datasets import Dataset\n",
    "import datasets as ds\n",
    "from datasets import DatasetDict\n",
    "from sklearn.model_selection import train_test_split\n",
    "from sklearn.metrics import accuracy_score, precision_score, recall_score, f1_score\n",
    "import matplotlib.pyplot as plt\n",
    "import numpy as np"
   ]
  },
  {
   "cell_type": "markdown",
   "metadata": {},
   "source": [
    "# Data Preparation"
   ]
  },
  {
   "cell_type": "code",
   "execution_count": 6,
   "metadata": {},
   "outputs": [],
   "source": [
    "# https://huggingface.co/datasets/fhamborg/news_sentiment_newsmtsc\n",
    "dataset_name = \"fhamborg/news_sentiment_newsmtsc\"\n",
    "\n",
    "# Load dataset\n",
    "dataset_sent = load_dataset(dataset_name)\n",
    "\n",
    "# Define the columns to keep\n",
    "columns_to_keep = [\"polarity\", \"sentence\"]\n",
    "\n",
    "# Remove columns from each split\n",
    "for split in dataset_sent.keys():\n",
    "    dataset_sent[split] = dataset_sent[split].remove_columns(\n",
    "        [col for col in dataset_sent[split].column_names if col not in columns_to_keep]\n",
    "    )\n",
    "# rename, so that datasets understands what is what\n",
    "dataset_sent = dataset_sent.rename_columns({\"polarity\": \"label\", \"sentence\": \"text\"})\n",
    "\n",
    "# rename because the models only support Z as numbers\n",
    "df_train = pd.DataFrame(dataset_sent[\"train\"])\n",
    "df_test = pd.DataFrame(dataset_sent[\"test\"])\n",
    "df_val = pd.DataFrame(dataset_sent[\"validation\"])\n",
    "\n",
    "# Concatenate vertically\n",
    "result_df = pd.concat([df_train, df_test, df_val], axis=0, ignore_index=True)\n",
    "\n",
    "# Split into train (80%), validation (10%), and test (10%)\n",
    "train_df, temp_df = train_test_split(result_df, test_size=0.2, random_state=42)\n",
    "df_val, df_test = train_test_split(temp_df, test_size=0.5, random_state=42)\n",
    "\n",
    "\n",
    "# recreation the dataset dictionary\n",
    "dataset_sent = ds.DatasetDict(\n",
    "    {\n",
    "        \"train\": Dataset.from_pandas(df_train),\n",
    "        \"test\": Dataset.from_pandas(df_test),\n",
    "        \"validation\": Dataset.from_pandas(df_val),\n",
    "    }\n",
    ")\n",
    "\n",
    "\n",
    "# Creation of the test dataframe\n",
    "test_dataset = pd.DataFrame(dataset_sent[\"test\"])"
   ]
  },
  {
   "cell_type": "markdown",
   "metadata": {},
   "source": [
    "# Model Loading"
   ]
  },
  {
   "cell_type": "code",
   "execution_count": 7,
   "metadata": {},
   "outputs": [],
   "source": [
    "sentiment_pipeline_rogerkam = pipeline(model = \"RogerKam/roberta_fine_tuned_sentiment_newsmtsc\")"
   ]
  },
  {
   "cell_type": "code",
   "execution_count": 8,
   "metadata": {},
   "outputs": [],
   "source": [
    "sentiment_pipeline_own_model = pipeline(\n",
    "    model=\"MaxG1/roberta_fine_tuned_on_newsmstc_02_split\"\n",
    ")"
   ]
  },
  {
   "cell_type": "markdown",
   "metadata": {},
   "source": [
    "# Let the testing and comparison beginn"
   ]
  },
  {
   "cell_type": "code",
   "execution_count": 9,
   "metadata": {},
   "outputs": [],
   "source": [
    "for index, row in test_dataset.text.items():\n",
    "  \n",
    "    test_dataset.at[index, 'base_feeling_roger'] = int(sentiment_pipeline_rogerkam(row)[0]['label'][6:])\n",
    "\n",
    "    test_dataset.at[\n",
    "        index, \"base_feeling_own_model\"\n",
    "    ] = sentiment_pipeline_own_model(row)[0][\"label\"]\n",
    "    \n"
   ]
  },
  {
   "cell_type": "markdown",
   "metadata": {},
   "source": [
    "## Renaming the values, for the classifaction metrcis to work"
   ]
  },
  {
   "cell_type": "code",
   "execution_count": 10,
   "metadata": {},
   "outputs": [],
   "source": [
    "test_dataset[\"base_feeling_own_model\"].replace(\n",
    "    {\n",
    "        \"negative\": -1,\n",
    "        \"neutral\": 0,\n",
    "        \"positive\": 1,\n",
    "    },\n",
    "    inplace=True,\n",
    ")"
   ]
  },
  {
   "cell_type": "code",
   "execution_count": 11,
   "metadata": {},
   "outputs": [],
   "source": [
    "test_dataset['base_feeling_roger'].replace({\n",
    "    0 : -1,\n",
    "    1: 0,\n",
    "    2: 1,  \n",
    "}, inplace=True)"
   ]
  },
  {
   "cell_type": "markdown",
   "metadata": {},
   "source": [
    "## Checking the classifcation metrics to see how my model competes"
   ]
  },
  {
   "cell_type": "markdown",
   "metadata": {},
   "source": [
    "### Metrcis for my own model"
   ]
  },
  {
   "cell_type": "code",
   "execution_count": 12,
   "metadata": {},
   "outputs": [
    {
     "name": "stdout",
     "output_type": "stream",
     "text": [
      "Accuracy: 0.834\n",
      "Precision: 0.835\n",
      "Recall: 0.834\n",
      "F1 Score: 0.832\n"
     ]
    }
   ],
   "source": [
    "true_labels = test_dataset.label\n",
    "predicted_labels = test_dataset.base_feeling_own_model\n",
    "\n",
    "# Calculate accuracy\n",
    "accuracy = accuracy_score(true_labels, predicted_labels)\n",
    "\n",
    "# Calculate precision\n",
    "precision = precision_score(true_labels, predicted_labels, average=\"weighted\")\n",
    "\n",
    "# Calculate recall\n",
    "recall = recall_score(true_labels, predicted_labels, average=\"weighted\")\n",
    "\n",
    "# Calculate F1 score\n",
    "f1_own = f1_score(true_labels, predicted_labels, average=\"weighted\")\n",
    "\n",
    "print(f\"Accuracy: {accuracy:.3f}\")\n",
    "print(f\"Precision: {precision:.3f}\")\n",
    "print(f\"Recall: {recall:.3f}\")\n",
    "print(f\"F1 Score: {f1_own:.3f}\")"
   ]
  },
  {
   "cell_type": "markdown",
   "metadata": {},
   "source": [
    "### Metrcis for the model of roger kam\n"
   ]
  },
  {
   "cell_type": "code",
   "execution_count": 13,
   "metadata": {},
   "outputs": [
    {
     "name": "stdout",
     "output_type": "stream",
     "text": [
      "Accuracy: 0.826\n",
      "Precision: 0.826\n",
      "Recall: 0.826\n",
      "F1 Score: 0.824\n"
     ]
    }
   ],
   "source": [
    "predicted_labels = test_dataset[\"base_feeling_roger\"]\n",
    "\n",
    "# Calculate accuracy\n",
    "accuracy = accuracy_score(true_labels, predicted_labels)\n",
    "\n",
    "# Calculate precision\n",
    "precision = precision_score(true_labels, predicted_labels, average=\"weighted\")\n",
    "\n",
    "# Calculate recall\n",
    "recall = recall_score(true_labels, predicted_labels, average=\"weighted\")\n",
    "\n",
    "# Calculate F1 score\n",
    "f1_roger = f1_score(true_labels, predicted_labels, average=\"weighted\")\n",
    "\n",
    "print(f\"Accuracy: {accuracy:.3f}\")\n",
    "print(f\"Precision: {precision:.3f}\")\n",
    "print(f\"Recall: {recall:.3f}\")\n",
    "print(f\"F1 Score: {f1_roger:.3}\")"
   ]
  },
  {
   "cell_type": "code",
   "execution_count": 14,
   "metadata": {},
   "outputs": [
    {
     "data": {
      "image/png": "[encoded data removed]",
      "text/plain": [
       "<Figure size 1000x600 with 1 Axes>"
      ]
     },
     "metadata": {},
     "output_type": "display_data"
    }
   ],
   "source": [
    "models = [\"My Model\", \"RogerKam\", \"Hamborg and Donnay\"]\n",
    "F1 = [f1_own, f1_roger, 0.831]\n",
    "\n",
    "bar_width = 0.5\n",
    "index = np.arange(len(models))\n",
    "\n",
    "fig, ax = plt.subplots(figsize=(10, 6))\n",
    "\n",
    "bars = ax.bar(index, F1, bar_width, label=\"F1 Score\", color=\"blue\")\n",
    "\n",
    "ax.set_xlabel(\"Models\")\n",
    "ax.set_ylabel(\"F1 Score\")\n",
    "ax.set_title(\"Comparison of Sentiment Analysis Models - F1 Score\")\n",
    "ax.set_xticks(index)\n",
    "ax.set_xticklabels(models)\n",
    "ax.legend()\n",
    "\n",
    "plt.show()"
   ]
  }
 ],
 "metadata": {
  "kernelspec": {
   "display_name": "ai_env",
   "language": "python",
   "name": "python3"
  },
  "language_info": {
   "codemirror_mode": {
    "name": "ipython",
    "version": 3
   },
   "file_extension": ".py",
   "mimetype": "text/x-python",
   "name": "python",
   "nbconvert_exporter": "python",
   "pygments_lexer": "ipython3",
   "version": "3.10.9"
  }
 },
 "nbformat": 4,
 "nbformat_minor": 2
}
