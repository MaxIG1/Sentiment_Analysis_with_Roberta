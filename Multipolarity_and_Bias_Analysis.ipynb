{
 "cells": [
  {
   "cell_type": "markdown",
   "metadata": {},
   "source": [
    "# Dependency Loading\n"
   ]
  },
  {
   "cell_type": "code",
   "execution_count": 1,
   "metadata": {},
   "outputs": [],
   "source": [
    "import pandas as pd\n",
    "import seaborn as sns\n",
    "import matplotlib.pyplot as plt\n",
    "from transformers import pipeline\n",
    "from datasets import load_dataset\n",
    "from transformers import pipeline\n",
    "from sklearn.model_selection import train_test_split\n",
    "from datasets import Dataset\n",
    "import datasets as ds"
   ]
  },
  {
   "cell_type": "markdown",
   "metadata": {},
   "source": [
    "# Data Preparation"
   ]
  },
  {
   "cell_type": "code",
   "execution_count": 2,
   "metadata": {},
   "outputs": [],
   "source": [
    "# https://huggingface.co/datasets/fhamborg/news_sentiment_newsmtsc\n",
    "dataset_name = \"fhamborg/news_sentiment_newsmtsc\"\n",
    "\n",
    "# Load dataset\n",
    "dataset_sent = load_dataset(dataset_name)\n",
    "\n",
    "# Define the columns to keep\n",
    "columns_to_keep = [\"polarity\", \"sentence\"]\n",
    "\n",
    "# Remove columns from each split\n",
    "for split in dataset_sent.keys():\n",
    "    dataset_sent[split] = dataset_sent[split].remove_columns(\n",
    "        [col for col in dataset_sent[split].column_names if col not in columns_to_keep]\n",
    "    )\n",
    "# rename, so that datasets understands what is what\n",
    "dataset_sent = dataset_sent.rename_columns({\"polarity\": \"label\", \"sentence\": \"text\"})\n",
    "\n",
    "\n",
    "df_train = pd.DataFrame(dataset_sent[\"train\"])\n",
    "df_test = pd.DataFrame(dataset_sent[\"test\"])\n",
    "df_val = pd.DataFrame(dataset_sent[\"validation\"])\n",
    "\n",
    "# Concatenate \n",
    "result_df = pd.concat([df_train, df_test, df_val], axis=0, ignore_index=True)\n",
    "\n",
    "# Split into train (60%), validation (20%), and test (20%)\n",
    "train_df, temp_df = train_test_split(result_df, test_size=0.4, random_state=42)\n",
    "df_val, df_test = train_test_split(temp_df, test_size=0.5, random_state=42)\n",
    "\n",
    "\n",
    "# recreation the dataset dictionary\n",
    "dataset_sent = ds.DatasetDict(\n",
    "    {\n",
    "        \"train\": Dataset.from_pandas(df_train),\n",
    "        \"test\": Dataset.from_pandas(df_test),\n",
    "        \"validation\": Dataset.from_pandas(df_val),\n",
    "    }\n",
    ")\n",
    "\n",
    "\n",
    "# Creation of the test dataframe\n",
    "test_dataset = pd.DataFrame(dataset_sent[\"test\"])"
   ]
  },
  {
   "cell_type": "markdown",
   "metadata": {},
   "source": [
    "# Model Loading"
   ]
  },
  {
   "cell_type": "code",
   "execution_count": 3,
   "metadata": {},
   "outputs": [],
   "source": [
    "sentiment_pipeline_own_model = pipeline(\n",
    "    model=\"MaxG1/roberta_fine_tuned_on_newsmstc_02_split\"\n",
    ")"
   ]
  },
  {
   "cell_type": "markdown",
   "metadata": {},
   "source": [
    "# Predicting"
   ]
  },
  {
   "cell_type": "code",
   "execution_count": 90,
   "metadata": {},
   "outputs": [
    {
     "name": "stdout",
     "output_type": "stream",
     "text": [
      "0\n"
     ]
    },
    {
     "name": "stderr",
     "output_type": "stream",
     "text": [
      "C:\\Users\\Max_G\\AppData\\Local\\Temp\\ipykernel_28064\\195360274.py:20: FutureWarning: Setting an item of incompatible dtype is deprecated and will raise in a future error of pandas. Value 'False' has dtype incompatible with float64, please explicitly cast to a compatible dtype first.\n",
      "  test_dataset.at[index, \"multipolinearty\"] = False\n"
     ]
    },
    {
     "name": "stdout",
     "output_type": "stream",
     "text": [
      "100\n",
      "200\n",
      "300\n",
      "400\n",
      "500\n",
      "600\n",
      "700\n",
      "800\n",
      "900\n",
      "1000\n",
      "1100\n",
      "1200\n",
      "1300\n",
      "1400\n",
      "1500\n",
      "1600\n",
      "1700\n",
      "1800\n",
      "1900\n"
     ]
    }
   ],
   "source": [
    "# set threshold for multipolinearity\n",
    "threshold = 0.1\n",
    "\n",
    "test_dataset[\"full_score\"] = None\n",
    "\n",
    "for index, row in test_dataset.text.items():\n",
    "    try:\n",
    "        mod = index % 100\n",
    "        if mod == 0:\n",
    "            print(index)\n",
    "        # base sentiment analysis\n",
    "        result = sentiment_pipeline_own_model(row, top_k=None)\n",
    "        test_dataset.at[index, \"base_feeling\"] = result[0][\"label\"]\n",
    "        test_dataset.at[index, \"base_feeling_score\"] = result[0][\"score\"]\n",
    "        # advanced sentiment analysis\n",
    "        test_dataset.at[index, \"full_score\"] = result\n",
    "        if not 1 - result[0][\"score\"] < 0.1:\n",
    "            test_dataset.at[index, \"multipolinearty\"] = True\n",
    "        else:\n",
    "            test_dataset.at[index, \"multipolinearty\"] = False\n",
    "    except RuntimeError as e:\n",
    "        print(e)\n",
    "        print(index)\n",
    "        print(row)\n",
    "        test_dataset.drop(index, inplace=True)\n",
    "\n",
    "\n",
    "test_dataset[\"base_feeling\"].replace(\n",
    "    {\n",
    "        'negative': -1,\n",
    "        'neutral': 0,\n",
    "        'positive': 1,\n",
    "    },\n",
    "    inplace=True,\n",
    ")"
   ]
  },
  {
   "cell_type": "markdown",
   "metadata": {},
   "source": [
    "# Analysis"
   ]
  },
  {
   "cell_type": "code",
   "execution_count": 91,
   "metadata": {},
   "outputs": [
    {
     "data": {
      "text/plain": [
       "0.40364188163884673"
      ]
     },
     "execution_count": 91,
     "metadata": {},
     "output_type": "execute_result"
    }
   ],
   "source": [
    "test_dataset.multipolinearty.sum() / len(test_dataset)"
   ]
  },
  {
   "cell_type": "code",
   "execution_count": 92,
   "metadata": {},
   "outputs": [
    {
     "name": "stderr",
     "output_type": "stream",
     "text": [
      "c:\\Users\\Max_G\\anaconda3\\envs\\ai_env\\lib\\site-packages\\seaborn\\_oldcore.py:1119: FutureWarning: use_inf_as_na option is deprecated and will be removed in a future version. Convert inf values to NaN before operating instead.\n",
      "  with pd.option_context('mode.use_inf_as_na', True):\n",
      "c:\\Users\\Max_G\\anaconda3\\envs\\ai_env\\lib\\site-packages\\seaborn\\_oldcore.py:1119: FutureWarning: use_inf_as_na option is deprecated and will be removed in a future version. Convert inf values to NaN before operating instead.\n",
      "  with pd.option_context('mode.use_inf_as_na', True):\n"
     ]
    },
    {
     "data": {
      "image/png": "[encoded data removed]",
      "text/plain": [
       "<Figure size 1000x600 with 1 Axes>"
      ]
     },
     "metadata": {},
     "output_type": "display_data"
    }
   ],
   "source": [
    "sns.set(style=\"whitegrid\")\n",
    "\n",
    "# Plot it!\n",
    "plt.figure(figsize=(10, 6))\n",
    "\n",
    "# Plot the first histogram\n",
    "sns.histplot(\n",
    "    data=test_dataset,\n",
    "    x=\"base_feeling\",\n",
    "    bins=range(len(test_dataset[\"base_feeling\"].unique()) + 1),\n",
    "    discrete=True,\n",
    "    edgecolor=\"black\",\n",
    "    label=\"Predicted Sentiment\",  # Updated label for the first histogram\n",
    ")\n",
    "\n",
    "# Plot it!\n",
    "sns.histplot(\n",
    "    data=test_dataset,\n",
    "    x=\"label\",\n",
    "    bins=\"auto\",\n",
    "    color=\"orange\",\n",
    "    edgecolor=\"black\",\n",
    "    label=\"True Sentiment\",  # Updated label for the second histogram\n",
    ")\n",
    "\n",
    "\n",
    "plt.legend()\n",
    "\n",
    "\n",
    "plt.xticks([-1, 0, 1], [\"Negative\", \"Neutral\", \"Positive\"])\n",
    "\n",
    "#TITle  and labels\n",
    "plt.title(\"Histogram of Predicted and True Sentiment\")\n",
    "plt.xlabel(\"Sentiment Values\")\n",
    "plt.ylabel(\"Frequency\")\n",
    "\n",
    "plt.show()"
   ]
  },
  {
   "cell_type": "code",
   "execution_count": 93,
   "metadata": {},
   "outputs": [],
   "source": [
    "df_mp_true = test_dataset.query(\"multipolinearty == True\")\n",
    "df_mp_false = test_dataset.query(\"multipolinearty == False\")"
   ]
  },
  {
   "cell_type": "code",
   "execution_count": 94,
   "metadata": {},
   "outputs": [
    {
     "name": "stderr",
     "output_type": "stream",
     "text": [
      "c:\\Users\\Max_G\\anaconda3\\envs\\ai_env\\lib\\site-packages\\seaborn\\_oldcore.py:1119: FutureWarning: use_inf_as_na option is deprecated and will be removed in a future version. Convert inf values to NaN before operating instead.\n",
      "  with pd.option_context('mode.use_inf_as_na', True):\n",
      "c:\\Users\\Max_G\\anaconda3\\envs\\ai_env\\lib\\site-packages\\seaborn\\_oldcore.py:1119: FutureWarning: use_inf_as_na option is deprecated and will be removed in a future version. Convert inf values to NaN before operating instead.\n",
      "  with pd.option_context('mode.use_inf_as_na', True):\n"
     ]
    },
    {
     "data": {
      "image/png": "[encoded data removed]",
      "text/plain": [
       "<Figure size 1000x600 with 1 Axes>"
      ]
     },
     "metadata": {},
     "output_type": "display_data"
    }
   ],
   "source": [
    "\n",
    "sns.set(style=\"whitegrid\")\n",
    "\n",
    "# Plot the histogram\n",
    "plt.figure(figsize=(10, 6))\n",
    "\n",
    "# Plot the first histogram\n",
    "sns.histplot(\n",
    "    data=df_mp_true,\n",
    "    x=\"base_feeling\",\n",
    "    bins=range(len(df_mp_true[\"base_feeling\"].unique()) + 1),\n",
    "    discrete=True,\n",
    "    edgecolor=\"black\",\n",
    "    label=\"Predicted Sentiment\",  \n",
    ")\n",
    "\n",
    "# Plot the second one\n",
    "sns.histplot(\n",
    "    data=df_mp_true,\n",
    "    x=\"label\",\n",
    "    bins=\"auto\",\n",
    "    color=\"orange\",\n",
    "    edgecolor=\"black\",\n",
    "    label=\"True Sentiment\", \n",
    ")\n",
    "\n",
    "\n",
    "plt.legend()\n",
    "\n",
    "# Set custom labels \n",
    "plt.xticks([-1, 0, 1], [\"Negative\", \"Neutral\", \"Positive\"])\n",
    "\n",
    "# Set title and labels\n",
    "plt.title(\"Histogram of Predicted and True Sentiment in Case of Multipolarity\")\n",
    "plt.xlabel(\"Sentiment Values\")\n",
    "plt.ylabel(\"Frequency\")\n",
    "\n",
    "\n",
    "plt.show()"
   ]
  },
  {
   "cell_type": "code",
   "execution_count": 95,
   "metadata": {},
   "outputs": [
    {
     "name": "stderr",
     "output_type": "stream",
     "text": [
      "c:\\Users\\Max_G\\anaconda3\\envs\\ai_env\\lib\\site-packages\\seaborn\\_oldcore.py:1119: FutureWarning: use_inf_as_na option is deprecated and will be removed in a future version. Convert inf values to NaN before operating instead.\n",
      "  with pd.option_context('mode.use_inf_as_na', True):\n",
      "c:\\Users\\Max_G\\anaconda3\\envs\\ai_env\\lib\\site-packages\\seaborn\\_oldcore.py:1119: FutureWarning: use_inf_as_na option is deprecated and will be removed in a future version. Convert inf values to NaN before operating instead.\n",
      "  with pd.option_context('mode.use_inf_as_na', True):\n"
     ]
    },
    {
     "data": {
      "image/png": "[encoded data removed]",
      "text/plain": [
       "<Figure size 1000x600 with 1 Axes>"
      ]
     },
     "metadata": {},
     "output_type": "display_data"
    }
   ],
   "source": [
    "sns.set(style=\"whitegrid\")\n",
    "\n",
    "# Plot the histogram\n",
    "plt.figure(figsize=(10, 6))\n",
    "sns.histplot(data=df_mp_false , x='base_feeling', bins=range(len(test_dataset['base_feeling'].unique()) + 1), discrete=True, edgecolor=\"black\")\n",
    "# Plot the histogram for polarity on the same plot\n",
    "sns.histplot(data=df_mp_false, x='label', bins='auto', color='orange', edgecolor=\"black\", label='Polarity')\n",
    "\n",
    "plt.title('Histogram of Base Feeling no Polinearity')\n",
    "plt.xlabel('Base Feeling')\n",
    "plt.ylabel('Frequency')\n",
    "\n",
    "plt.show()"
   ]
  },
  {
   "cell_type": "markdown",
   "metadata": {},
   "source": [
    "# Analysis of Multipolarity deviation"
   ]
  },
  {
   "cell_type": "code",
   "execution_count": 96,
   "metadata": {},
   "outputs": [],
   "source": [
    "df_mp_true_neutral = df_mp_true.query(\"label == 0\")"
   ]
  },
  {
   "cell_type": "code",
   "execution_count": 97,
   "metadata": {},
   "outputs": [
    {
     "data": {
      "text/html": [
       "<div>\n",
       "<style scoped>\n",
       "    .dataframe tbody tr th:only-of-type {\n",
       "        vertical-align: middle;\n",
       "    }\n",
       "\n",
       "    .dataframe tbody tr th {\n",
       "        vertical-align: top;\n",
       "    }\n",
       "\n",
       "    .dataframe thead th {\n",
       "        text-align: right;\n",
       "    }\n",
       "</style>\n",
       "<table border=\"1\" class=\"dataframe\">\n",
       "  <thead>\n",
       "    <tr style=\"text-align: right;\">\n",
       "      <th></th>\n",
       "      <th>label</th>\n",
       "      <th>text</th>\n",
       "      <th>__index_level_0__</th>\n",
       "      <th>full_score</th>\n",
       "      <th>base_feeling</th>\n",
       "      <th>base_feeling_score</th>\n",
       "      <th>multipolinearty</th>\n",
       "    </tr>\n",
       "  </thead>\n",
       "  <tbody>\n",
       "    <tr>\n",
       "      <th>19</th>\n",
       "      <td>0</td>\n",
       "      <td>Among Bolton's fans: Donald J. Trump.</td>\n",
       "      <td>4868</td>\n",
       "      <td>[{'label': 'neutral', 'score': 0.6115034222602...</td>\n",
       "      <td>0</td>\n",
       "      <td>0.611503</td>\n",
       "      <td>True</td>\n",
       "    </tr>\n",
       "    <tr>\n",
       "      <th>32</th>\n",
       "      <td>0</td>\n",
       "      <td>Flake blasts Trump as 'erratic' in New Hampshi...</td>\n",
       "      <td>5885</td>\n",
       "      <td>[{'label': 'negative', 'score': 0.789143264293...</td>\n",
       "      <td>-1</td>\n",
       "      <td>0.789143</td>\n",
       "      <td>True</td>\n",
       "    </tr>\n",
       "    <tr>\n",
       "      <th>44</th>\n",
       "      <td>0</td>\n",
       "      <td>The statement doesn't address reports from wit...</td>\n",
       "      <td>8181</td>\n",
       "      <td>[{'label': 'neutral', 'score': 0.5306987166404...</td>\n",
       "      <td>0</td>\n",
       "      <td>0.530699</td>\n",
       "      <td>True</td>\n",
       "    </tr>\n",
       "    <tr>\n",
       "      <th>49</th>\n",
       "      <td>0</td>\n",
       "      <td>The officers returned fire, and the suspects f...</td>\n",
       "      <td>7882</td>\n",
       "      <td>[{'label': 'neutral', 'score': 0.7373533844947...</td>\n",
       "      <td>0</td>\n",
       "      <td>0.737353</td>\n",
       "      <td>True</td>\n",
       "    </tr>\n",
       "    <tr>\n",
       "      <th>55</th>\n",
       "      <td>0</td>\n",
       "      <td>McConnell to back off, and let the Senate do i...</td>\n",
       "      <td>9677</td>\n",
       "      <td>[{'label': 'negative', 'score': 0.521824359893...</td>\n",
       "      <td>-1</td>\n",
       "      <td>0.521824</td>\n",
       "      <td>True</td>\n",
       "    </tr>\n",
       "    <tr>\n",
       "      <th>...</th>\n",
       "      <td>...</td>\n",
       "      <td>...</td>\n",
       "      <td>...</td>\n",
       "      <td>...</td>\n",
       "      <td>...</td>\n",
       "      <td>...</td>\n",
       "      <td>...</td>\n",
       "    </tr>\n",
       "    <tr>\n",
       "      <th>1954</th>\n",
       "      <td>0</td>\n",
       "      <td>Abercrombie didn’t help calm things in his int...</td>\n",
       "      <td>7780</td>\n",
       "      <td>[{'label': 'negative', 'score': 0.642076134681...</td>\n",
       "      <td>-1</td>\n",
       "      <td>0.642076</td>\n",
       "      <td>True</td>\n",
       "    </tr>\n",
       "    <tr>\n",
       "      <th>1957</th>\n",
       "      <td>0</td>\n",
       "      <td>If Obama needs to recover from a flat performa...</td>\n",
       "      <td>2883</td>\n",
       "      <td>[{'label': 'negative', 'score': 0.749061524868...</td>\n",
       "      <td>-1</td>\n",
       "      <td>0.749062</td>\n",
       "      <td>True</td>\n",
       "    </tr>\n",
       "    <tr>\n",
       "      <th>1966</th>\n",
       "      <td>0</td>\n",
       "      <td>If confirmed, he would make the Supreme Court ...</td>\n",
       "      <td>9712</td>\n",
       "      <td>[{'label': 'positive', 'score': 0.889326035976...</td>\n",
       "      <td>1</td>\n",
       "      <td>0.889326</td>\n",
       "      <td>True</td>\n",
       "    </tr>\n",
       "    <tr>\n",
       "      <th>1968</th>\n",
       "      <td>0</td>\n",
       "      <td>SIGN UP FOR OUR NEWSLETTER\\nTake on the Santa ...</td>\n",
       "      <td>7615</td>\n",
       "      <td>[{'label': 'neutral', 'score': 0.7554818987846...</td>\n",
       "      <td>0</td>\n",
       "      <td>0.755482</td>\n",
       "      <td>True</td>\n",
       "    </tr>\n",
       "    <tr>\n",
       "      <th>1972</th>\n",
       "      <td>0</td>\n",
       "      <td>'We want referendum': intensive Uluru talks ca...</td>\n",
       "      <td>4295</td>\n",
       "      <td>[{'label': 'positive', 'score': 0.751513242721...</td>\n",
       "      <td>1</td>\n",
       "      <td>0.751513</td>\n",
       "      <td>True</td>\n",
       "    </tr>\n",
       "  </tbody>\n",
       "</table>\n",
       "<p>296 rows × 7 columns</p>\n",
       "</div>"
      ],
      "text/plain": [
       "      label                                               text  \\\n",
       "19        0              Among Bolton's fans: Donald J. Trump.   \n",
       "32        0  Flake blasts Trump as 'erratic' in New Hampshi...   \n",
       "44        0  The statement doesn't address reports from wit...   \n",
       "49        0  The officers returned fire, and the suspects f...   \n",
       "55        0  McConnell to back off, and let the Senate do i...   \n",
       "...     ...                                                ...   \n",
       "1954      0  Abercrombie didn’t help calm things in his int...   \n",
       "1957      0  If Obama needs to recover from a flat performa...   \n",
       "1966      0  If confirmed, he would make the Supreme Court ...   \n",
       "1968      0  SIGN UP FOR OUR NEWSLETTER\\nTake on the Santa ...   \n",
       "1972      0  'We want referendum': intensive Uluru talks ca...   \n",
       "\n",
       "      __index_level_0__                                         full_score  \\\n",
       "19                 4868  [{'label': 'neutral', 'score': 0.6115034222602...   \n",
       "32                 5885  [{'label': 'negative', 'score': 0.789143264293...   \n",
       "44                 8181  [{'label': 'neutral', 'score': 0.5306987166404...   \n",
       "49                 7882  [{'label': 'neutral', 'score': 0.7373533844947...   \n",
       "55                 9677  [{'label': 'negative', 'score': 0.521824359893...   \n",
       "...                 ...                                                ...   \n",
       "1954               7780  [{'label': 'negative', 'score': 0.642076134681...   \n",
       "1957               2883  [{'label': 'negative', 'score': 0.749061524868...   \n",
       "1966               9712  [{'label': 'positive', 'score': 0.889326035976...   \n",
       "1968               7615  [{'label': 'neutral', 'score': 0.7554818987846...   \n",
       "1972               4295  [{'label': 'positive', 'score': 0.751513242721...   \n",
       "\n",
       "      base_feeling  base_feeling_score multipolinearty  \n",
       "19               0            0.611503            True  \n",
       "32              -1            0.789143            True  \n",
       "44               0            0.530699            True  \n",
       "49               0            0.737353            True  \n",
       "55              -1            0.521824            True  \n",
       "...            ...                 ...             ...  \n",
       "1954            -1            0.642076            True  \n",
       "1957            -1            0.749062            True  \n",
       "1966             1            0.889326            True  \n",
       "1968             0            0.755482            True  \n",
       "1972             1            0.751513            True  \n",
       "\n",
       "[296 rows x 7 columns]"
      ]
     },
     "execution_count": 97,
     "metadata": {},
     "output_type": "execute_result"
    }
   ],
   "source": [
    "df_mp_true_neutral"
   ]
  },
  {
   "cell_type": "code",
   "execution_count": 98,
   "metadata": {},
   "outputs": [],
   "source": [
    "negative_count = 0\n",
    "positive_count = 0\n",
    "\n",
    "\n",
    "for index in df_mp_true_neutral.index:\n",
    "    try:\n",
    "        if df_mp_true_neutral.full_score.loc[index][1:2][0][\"label\"] == \"negative\":\n",
    "            negative_count += 1\n",
    "        elif df_mp_true_neutral.full_score.loc[index][1:2][0][\"label\"] == \"positive\":\n",
    "            positive_count += 1\n",
    "    except IndexError as e:\n",
    "        print(e)\n",
    "        print(index)"
   ]
  },
  {
   "cell_type": "code",
   "execution_count": 99,
   "metadata": {},
   "outputs": [],
   "source": [
    "leng_true_neutral = len(df_mp_true_neutral)"
   ]
  },
  {
   "cell_type": "code",
   "execution_count": 100,
   "metadata": {},
   "outputs": [
    {
     "data": {
      "text/plain": [
       "0.30067567567567566"
      ]
     },
     "execution_count": 100,
     "metadata": {},
     "output_type": "execute_result"
    }
   ],
   "source": [
    "negative_count / leng_true_neutral"
   ]
  },
  {
   "cell_type": "markdown",
   "metadata": {},
   "source": [
    "# Analysis of Bias"
   ]
  },
  {
   "cell_type": "code",
   "execution_count": 101,
   "metadata": {},
   "outputs": [
    {
     "data": {
      "text/plain": [
       "[{'label': 'neutral', 'score': 0.4256798028945923},\n",
       " {'label': 'positive', 'score': 0.8475819826126099},\n",
       " {'label': 'negative', 'score': 0.8118910193443298},\n",
       " {'label': 'negative', 'score': 0.49596840143203735}]"
      ]
     },
     "execution_count": 101,
     "metadata": {},
     "output_type": "execute_result"
    }
   ],
   "source": [
    "testing_list_presidency = [\n",
    "    \"A black man is president\",\n",
    "    \"A black woman is president\",\n",
    "    \"A white man is president\",\n",
    "    \"A white woman is president\",\n",
    "]\n",
    "\n",
    "sentiment_pipeline_own_model(testing_list_presidency)"
   ]
  },
  {
   "cell_type": "code",
   "execution_count": 102,
   "metadata": {},
   "outputs": [
    {
     "data": {
      "text/plain": [
       "[{'label': 'neutral', 'score': 0.9819961786270142},\n",
       " {'label': 'neutral', 'score': 0.9741184115409851},\n",
       " {'label': 'neutral', 'score': 0.9791803956031799},\n",
       " {'label': 'neutral', 'score': 0.973282516002655},\n",
       " {'label': 'neutral', 'score': 0.9844229817390442}]"
      ]
     },
     "execution_count": 102,
     "metadata": {},
     "output_type": "execute_result"
    }
   ],
   "source": [
    "testing_list_countries = [\n",
    "    \"Afghanistan\",\n",
    "    \"Sweden\",\n",
    "    \"United States of America\",\n",
    "    \"Germany\",\n",
    "    \"Somalia\",\n",
    "]\n",
    "\n",
    "sentiment_pipeline_own_model(testing_list_countries)"
   ]
  },
  {
   "cell_type": "code",
   "execution_count": 103,
   "metadata": {},
   "outputs": [
    {
     "data": {
      "text/plain": [
       "[{'label': 'negative', 'score': 0.9248807430267334},\n",
       " {'label': 'neutral', 'score': 0.9166195392608643},\n",
       " {'label': 'positive', 'score': 0.8435238003730774}]"
      ]
     },
     "execution_count": 103,
     "metadata": {},
     "output_type": "execute_result"
    }
   ],
   "source": [
    "loaded_terms = [\"Terrorist\", \"Militant\", \"Freedom Fighter\"]\n",
    "\n",
    "sentiment_pipeline_own_model(loaded_terms)"
   ]
  },
  {
   "cell_type": "markdown",
   "metadata": {},
   "source": [
    "# Analysis of Negation"
   ]
  },
  {
   "cell_type": "code",
   "execution_count": 5,
   "metadata": {},
   "outputs": [
    {
     "data": {
      "text/plain": [
       "[{'label': 'negative', 'score': 0.9470339417457581},\n",
       " {'label': 'positive', 'score': 0.9715223908424377}]"
      ]
     },
     "execution_count": 5,
     "metadata": {},
     "output_type": "execute_result"
    }
   ],
   "source": [
    "negation_list = [\"I do not like President Trump\", \"I do like President Trump\"]\n",
    "\n",
    "sentiment_pipeline_own_model(negation_list)"
   ]
  }
 ],
 "metadata": {
  "kernelspec": {
   "display_name": "ai_env",
   "language": "python",
   "name": "python3"
  },
  "language_info": {
   "codemirror_mode": {
    "name": "ipython",
    "version": 3
   },
   "file_extension": ".py",
   "mimetype": "text/x-python",
   "name": "python",
   "nbconvert_exporter": "python",
   "pygments_lexer": "ipython3",
   "version": "3.10.9"
  }
 },
 "nbformat": 4,
 "nbformat_minor": 2
}
